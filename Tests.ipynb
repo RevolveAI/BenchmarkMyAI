{
 "cells": [
  {
   "cell_type": "code",
   "execution_count": null,
   "id": "1dd32f73",
   "metadata": {
    "ExecuteTime": {
     "end_time": "2021-07-28T09:53:08.693556Z",
     "start_time": "2021-07-28T09:53:08.689522Z"
    }
   },
   "outputs": [],
   "source": [
    "# MODEL = 'efficientdet-d0' \\\n",
    "# import os \\\n",
    "# def download(m):\\\n",
    "#   if m not in os.listdir():\\\n",
    "#     !wget https://storage.googleapis.com/cloud-tpu-checkpoints/efficientdet/coco/{m}.tar.gz \\\n",
    "#     !tar zxf {m}.tar.gz \\\n",
    "#   ckpt_path = os.path.join(os.getcwd(), m) \\\n",
    "#   return ckpt_path"
   ]
  },
  {
   "cell_type": "code",
   "execution_count": null,
   "id": "f3ec74de",
   "metadata": {
    "ExecuteTime": {
     "end_time": "2021-07-28T10:47:47.433301Z",
     "start_time": "2021-07-28T10:47:45.141324Z"
    }
   },
   "outputs": [],
   "source": [
    "%load_ext autoreload\n",
    "%autoreload 2"
   ]
  },
  {
   "cell_type": "code",
   "execution_count": 1,
   "id": "5b7d9cfa-8ae5-497e-a273-95086cc84a1b",
   "metadata": {
    "ExecuteTime": {
     "end_time": "2021-07-28T10:47:32.067194Z",
     "start_time": "2021-07-28T10:47:31.246809Z"
    }
   },
   "outputs": [],
   "source": [
    "import wandb"
   ]
  },
  {
   "cell_type": "code",
   "execution_count": 11,
   "id": "38ad6c36",
   "metadata": {
    "ExecuteTime": {
     "end_time": "2021-07-28T10:50:09.567296Z",
     "start_time": "2021-07-28T10:50:09.519420Z"
    }
   },
   "outputs": [],
   "source": [
    "import package as pk"
   ]
  },
  {
   "cell_type": "code",
   "execution_count": 21,
   "id": "4fcd2e83",
   "metadata": {
    "ExecuteTime": {
     "end_time": "2021-07-28T10:55:43.037176Z",
     "start_time": "2021-07-28T10:55:30.779348Z"
    },
    "scrolled": true
   },
   "outputs": [
    {
     "data": {
      "text/html": [
       "Finishing last run (ID:35kiwhzj) before initializing another..."
      ],
      "text/plain": [
       "<IPython.core.display.HTML object>"
      ]
     },
     "metadata": {},
     "output_type": "display_data"
    },
    {
     "data": {
      "text/html": [
       "<br/>Waiting for W&B process to finish, PID 41821<br/>Program ended successfully."
      ],
      "text/plain": [
       "<IPython.core.display.HTML object>"
      ]
     },
     "metadata": {},
     "output_type": "display_data"
    },
    {
     "data": {
      "application/vnd.jupyter.widget-view+json": {
       "model_id": "",
       "version_major": 2,
       "version_minor": 0
      },
      "text/plain": [
       "VBox(children=(Label(value=' 0.00MB of 0.00MB uploaded (0.00MB deduped)\\r'), FloatProgress(value=1.0, max=1.0)…"
      ]
     },
     "metadata": {},
     "output_type": "display_data"
    },
    {
     "data": {
      "text/html": [
       "Find user logs for this run at: <code>/home/asdkazmi/work/deeplearning-models-benchmarks/wandb/run-20210728_154947-35kiwhzj/logs/debug.log</code>"
      ],
      "text/plain": [
       "<IPython.core.display.HTML object>"
      ]
     },
     "metadata": {},
     "output_type": "display_data"
    },
    {
     "data": {
      "text/html": [
       "Find internal logs for this run at: <code>/home/asdkazmi/work/deeplearning-models-benchmarks/wandb/run-20210728_154947-35kiwhzj/logs/debug-internal.log</code>"
      ],
      "text/plain": [
       "<IPython.core.display.HTML object>"
      ]
     },
     "metadata": {},
     "output_type": "display_data"
    },
    {
     "data": {
      "text/html": [
       "<h3>Run summary:</h3><br/><style>\n",
       "    table.wandb td:nth-child(1) { padding: 0 10px; text-align: right }\n",
       "    </style><table class=\"wandb\">\n",
       "<tr><td>_runtime</td><td>250</td></tr><tr><td>_timestamp</td><td>1627469646</td></tr><tr><td>_step</td><td>2</td></tr><tr><td>spineNet_inference_time</td><td>292.21851</td></tr><tr><td>spineNet_throughput_time</td><td>292.21851</td></tr><tr><td>spineNet_std</td><td>84.78673</td></tr><tr><td>inference_time</td><td>292.21851</td></tr><tr><td>throughput_time</td><td>292.21851</td></tr><tr><td>std</td><td>84.78673</td></tr></table>"
      ],
      "text/plain": [
       "<IPython.core.display.HTML object>"
      ]
     },
     "metadata": {},
     "output_type": "display_data"
    },
    {
     "data": {
      "text/html": [
       "<h3>Run history:</h3><br/><style>\n",
       "    table.wandb td:nth-child(1) { padding: 0 10px; text-align: right }\n",
       "    </style><table class=\"wandb\">\n",
       "<tr><td>_runtime</td><td>▁▄█</td></tr><tr><td>_timestamp</td><td>▁▄█</td></tr><tr><td>_step</td><td>▁▅█</td></tr><tr><td>spineNet_inference_time</td><td>▁</td></tr><tr><td>spineNet_throughput_time</td><td>▁</td></tr><tr><td>spineNet_std</td><td>▁</td></tr><tr><td>inference_time</td><td>▁</td></tr><tr><td>throughput_time</td><td>▁</td></tr><tr><td>std</td><td>▁</td></tr></table><br/>"
      ],
      "text/plain": [
       "<IPython.core.display.HTML object>"
      ]
     },
     "metadata": {},
     "output_type": "display_data"
    },
    {
     "data": {
      "text/html": [
       "Synced 6 W&B file(s), 1 media file(s), 1 artifact file(s) and 0 other file(s)"
      ],
      "text/plain": [
       "<IPython.core.display.HTML object>"
      ]
     },
     "metadata": {},
     "output_type": "display_data"
    },
    {
     "data": {
      "text/html": [
       "\n",
       "                    <br/>Synced <strong style=\"color:#cdcd00\">spineNet 28x28 1</strong>: <a href=\"https://wandb.ai/asadrevolveai/test_project/runs/35kiwhzj\" target=\"_blank\">https://wandb.ai/asadrevolveai/test_project/runs/35kiwhzj</a><br/>\n",
       "                "
      ],
      "text/plain": [
       "<IPython.core.display.HTML object>"
      ]
     },
     "metadata": {},
     "output_type": "display_data"
    },
    {
     "data": {
      "text/html": [
       "...Successfully finished last run (ID:35kiwhzj). Initializing new run:<br/><br/>"
      ],
      "text/plain": [
       "<IPython.core.display.HTML object>"
      ]
     },
     "metadata": {},
     "output_type": "display_data"
    },
    {
     "data": {
      "text/html": [
       "\n",
       "                Tracking run with wandb version 0.11.0<br/>\n",
       "                Syncing run <strong style=\"color:#cdcd00\">ResNet50 224x224 1</strong> to <a href=\"https://wandb.ai\" target=\"_blank\">Weights & Biases</a> <a href=\"https://docs.wandb.com/integrations/jupyter.html\" target=\"_blank\">(Documentation)</a>.<br/>\n",
       "                Project page: <a href=\"https://wandb.ai/asadrevolveai/test_project\" target=\"_blank\">https://wandb.ai/asadrevolveai/test_project</a><br/>\n",
       "                Run page: <a href=\"https://wandb.ai/asadrevolveai/test_project/runs/2uho0aau\" target=\"_blank\">https://wandb.ai/asadrevolveai/test_project/runs/2uho0aau</a><br/>\n",
       "                Run data is saved locally in <code>/home/asdkazmi/work/deeplearning-models-benchmarks/wandb/run-20210728_155530-2uho0aau</code><br/><br/>\n",
       "            "
      ],
      "text/plain": [
       "<IPython.core.display.HTML object>"
      ]
     },
     "metadata": {},
     "output_type": "display_data"
    }
   ],
   "source": [
    "model = 'ResNet50'\n",
    "shape = 224\n",
    "batch = 1\n",
    "run = wandb.init(project=\"test_project\", name=f'{model} {shape}x{shape} {batch}')"
   ]
  },
  {
   "cell_type": "code",
   "execution_count": 22,
   "id": "e4a14ecd-6c18-4d40-85c6-3853f1ba8a92",
   "metadata": {
    "ExecuteTime": {
     "end_time": "2021-07-28T10:55:58.689078Z",
     "start_time": "2021-07-28T10:55:58.636068Z"
    }
   },
   "outputs": [],
   "source": [
    "benchmarker = pk.utils.Benchmark(model, batch, (shape,shape), device='CPU:0')\n",
    "benchmarks = benchmarker.execute()"
   ]
  },
  {
   "cell_type": "code",
   "execution_count": null,
   "id": "027226ab",
   "metadata": {},
   "outputs": [],
   "source": []
  },
  {
   "cell_type": "code",
   "execution_count": 24,
   "id": "1d341216-57d2-4675-b343-a5220ebaf127",
   "metadata": {
    "ExecuteTime": {
     "end_time": "2021-07-28T11:31:30.892748Z",
     "start_time": "2021-07-28T11:31:30.841127Z"
    }
   },
   "outputs": [],
   "source": [
    "columns = [\"Benchmark\", \"Time (milliseconds)\"]"
   ]
  },
  {
   "cell_type": "code",
   "execution_count": 25,
   "id": "4bd89343-461b-4fdb-b542-a096b7c8ba62",
   "metadata": {
    "ExecuteTime": {
     "end_time": "2021-07-28T11:31:31.247074Z",
     "start_time": "2021-07-28T11:31:31.197197Z"
    }
   },
   "outputs": [],
   "source": [
    "table = wandb.Table(data=[[x,y] for (x, y) in benchmarks.items()], columns=columns)"
   ]
  },
  {
   "cell_type": "code",
   "execution_count": 26,
   "id": "f56307b8-7c3c-42ee-8dc0-9434e1c68019",
   "metadata": {
    "ExecuteTime": {
     "end_time": "2021-07-28T11:31:32.903976Z",
     "start_time": "2021-07-28T11:31:31.565515Z"
    }
   },
   "outputs": [],
   "source": [
    "wandb.log({\"infer_benchmarks\" : wandb.plot.bar(table, *columns,\n",
    "           title=\"Inference Benchmarks\")})"
   ]
  },
  {
   "cell_type": "code",
   "execution_count": 27,
   "id": "3fb1ac56-506a-4d60-b3c7-4c183a670235",
   "metadata": {
    "ExecuteTime": {
     "end_time": "2021-07-28T11:31:33.419368Z",
     "start_time": "2021-07-28T11:31:33.275786Z"
    }
   },
   "outputs": [],
   "source": [
    "wandb.log(benchmarks)"
   ]
  },
  {
   "cell_type": "code",
   "execution_count": null,
   "id": "81f4b457-6c21-43e1-b2b5-2e47eba8e7b3",
   "metadata": {},
   "outputs": [],
   "source": [
    "# run.join()"
   ]
  },
  {
   "cell_type": "code",
   "execution_count": null,
   "id": "e7386c5e-b01a-48f7-a8a6-d53381116a8d",
   "metadata": {},
   "outputs": [],
   "source": []
  }
 ],
 "metadata": {
  "kernelspec": {
   "display_name": "Python 3 (ipykernel)",
   "language": "python",
   "name": "python3"
  },
  "language_info": {
   "codemirror_mode": {
    "name": "ipython",
    "version": 3
   },
   "file_extension": ".py",
   "mimetype": "text/x-python",
   "name": "python",
   "nbconvert_exporter": "python",
   "pygments_lexer": "ipython3",
   "version": "3.9.5"
  },
  "toc": {
   "base_numbering": 1,
   "nav_menu": {},
   "number_sections": true,
   "sideBar": true,
   "skip_h1_title": false,
   "title_cell": "Table of Contents",
   "title_sidebar": "Contents",
   "toc_cell": false,
   "toc_position": {},
   "toc_section_display": true,
   "toc_window_display": false
  },
  "varInspector": {
   "cols": {
    "lenName": 16,
    "lenType": 16,
    "lenVar": 40
   },
   "kernels_config": {
    "python": {
     "delete_cmd_postfix": "",
     "delete_cmd_prefix": "del ",
     "library": "var_list.py",
     "varRefreshCmd": "print(var_dic_list())"
    },
    "r": {
     "delete_cmd_postfix": ") ",
     "delete_cmd_prefix": "rm(",
     "library": "var_list.r",
     "varRefreshCmd": "cat(var_dic_list()) "
    }
   },
   "types_to_exclude": [
    "module",
    "function",
    "builtin_function_or_method",
    "instance",
    "_Feature"
   ],
   "window_display": false
  }
 },
 "nbformat": 4,
 "nbformat_minor": 5
}
