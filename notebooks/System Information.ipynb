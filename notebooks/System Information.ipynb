{
 "cells": [
  {
   "cell_type": "code",
   "execution_count": null,
   "id": "fbc3323b",
   "metadata": {},
   "outputs": [],
   "source": []
  },
  {
   "cell_type": "code",
   "execution_count": 1,
   "id": "dffcb636",
   "metadata": {
    "ExecuteTime": {
     "end_time": "2021-07-28T12:41:51.856237Z",
     "start_time": "2021-07-28T12:41:51.813050Z"
    }
   },
   "outputs": [],
   "source": [
    "import psutil\n",
    "import platform\n",
    "from datetime import datetime"
   ]
  },
  {
   "cell_type": "code",
   "execution_count": 2,
   "id": "624fe7b9",
   "metadata": {
    "ExecuteTime": {
     "end_time": "2021-07-28T12:42:21.325581Z",
     "start_time": "2021-07-28T12:42:21.318361Z"
    }
   },
   "outputs": [],
   "source": [
    "def get_size(bytes, suffix=\"B\"):\n",
    "    \"\"\"\n",
    "    Scale bytes to its proper format\n",
    "    e.g:\n",
    "        1253656 => '1.20MB'\n",
    "        1253656678 => '1.17GB'\n",
    "    \"\"\"\n",
    "    factor = 1024\n",
    "    for unit in [\"\", \"K\", \"M\", \"G\", \"T\", \"P\"]:\n",
    "        if bytes < factor:\n",
    "            return f\"{bytes:.2f}{unit}{suffix}\"\n",
    "        bytes /= factor"
   ]
  },
  {
   "cell_type": "code",
   "execution_count": 17,
   "id": "94dfad99",
   "metadata": {
    "ExecuteTime": {
     "end_time": "2021-07-28T12:56:36.475085Z",
     "start_time": "2021-07-28T12:56:36.471862Z"
    }
   },
   "outputs": [],
   "source": [
    "# import os\n",
    "import platform"
   ]
  },
  {
   "cell_type": "code",
   "execution_count": 25,
   "id": "bfab0eb5",
   "metadata": {
    "ExecuteTime": {
     "end_time": "2021-07-28T13:01:17.661728Z",
     "start_time": "2021-07-28T13:01:13.957981Z"
    },
    "scrolled": true
   },
   "outputs": [
    {
     "name": "stdout",
     "output_type": "stream",
     "text": [
      "Collecting py-cpuinfo\n",
      "  Using cached py-cpuinfo-8.0.0.tar.gz (99 kB)\n",
      "Building wheels for collected packages: py-cpuinfo\n",
      "  Building wheel for py-cpuinfo (setup.py) ... \u001b[?25ldone\n",
      "\u001b[?25h  Created wheel for py-cpuinfo: filename=py_cpuinfo-8.0.0-py3-none-any.whl size=22245 sha256=ace706346cb30bf1679b3f70d47ce6605360b6b0487eeaf1851981001641b870\n",
      "  Stored in directory: /home/asdkazmi/.cache/pip/wheels/a9/33/c2/bcf6550ff9c95f699d7b2f261c8520b42b7f7c33b6e6920e29\n",
      "Successfully built py-cpuinfo\n",
      "Installing collected packages: py-cpuinfo\n",
      "\u001b[31mERROR: pip's dependency resolver does not currently take into account all the packages that are installed. This behaviour is the source of the following dependency conflicts.\n",
      "tf-models-official 2.5.1 requires google-api-python-client>=1.6.7, which is not installed.\n",
      "tf-models-official 2.5.1 requires kaggle>=1.3.9, which is not installed.\n",
      "tf-models-official 2.5.1 requires oauth2client, which is not installed.\n",
      "tf-models-official 2.5.1 requires opencv-python-headless, which is not installed.\n",
      "tf-models-official 2.5.1 requires pandas>=0.22.0, which is not installed.\n",
      "tf-models-official 2.5.1 requires sacrebleu, which is not installed.\n",
      "tf-models-official 2.5.1 requires sentencepiece, which is not installed.\n",
      "tf-models-official 2.5.1 requires seqeval, which is not installed.\n",
      "tf-models-official 2.5.1 requires tf-slim>=1.1.0, which is not installed.\n",
      "tf-models-official 2.5.1 requires tensorflow>=2.5.0, but you have tensorflow 2.4.1 which is incompatible.\u001b[0m\n",
      "Successfully installed py-cpuinfo-8.0.0\n",
      "Note: you may need to restart the kernel to use updated packages.\n"
     ]
    }
   ],
   "source": [
    "pip install py-cpuinfo"
   ]
  },
  {
   "cell_type": "code",
   "execution_count": 29,
   "id": "a5d277d0",
   "metadata": {
    "ExecuteTime": {
     "end_time": "2021-07-28T13:02:39.334745Z",
     "start_time": "2021-07-28T13:02:38.136361Z"
    }
   },
   "outputs": [
    {
     "name": "stdout",
     "output_type": "stream",
     "text": [
      "cpu: Intel(R) Core(TM) i5-5200U CPU @ 2.20GHz\n"
     ]
    }
   ],
   "source": [
    "import cpuinfo\n",
    "print('cpu:', cpuinfo.get_cpu_info()['brand_raw'])"
   ]
  },
  {
   "cell_type": "code",
   "execution_count": null,
   "id": "4e4de6e4",
   "metadata": {
    "ExecuteTime": {
     "end_time": "2021-07-28T13:04:32.004994Z",
     "start_time": "2021-07-28T13:04:27.720294Z"
    },
    "scrolled": true
   },
   "outputs": [],
   "source": [
    "pip install gputil"
   ]
  },
  {
   "cell_type": "code",
   "execution_count": 31,
   "id": "411f894d",
   "metadata": {
    "ExecuteTime": {
     "end_time": "2021-07-28T13:04:41.677330Z",
     "start_time": "2021-07-28T13:04:41.670568Z"
    }
   },
   "outputs": [],
   "source": [
    "import GPUtil"
   ]
  },
  {
   "cell_type": "code",
   "execution_count": 32,
   "id": "bea7c9a6",
   "metadata": {
    "ExecuteTime": {
     "end_time": "2021-07-28T13:05:01.084980Z",
     "start_time": "2021-07-28T13:05:01.074302Z"
    }
   },
   "outputs": [],
   "source": [
    "gpus = GPUtil.getGPUs()"
   ]
  },
  {
   "cell_type": "code",
   "execution_count": 38,
   "id": "74119b5b",
   "metadata": {
    "ExecuteTime": {
     "end_time": "2021-07-28T13:36:10.828653Z",
     "start_time": "2021-07-28T13:36:10.824587Z"
    }
   },
   "outputs": [
    {
     "data": {
      "text/plain": [
       "[]"
      ]
     },
     "execution_count": 38,
     "metadata": {},
     "output_type": "execute_result"
    }
   ],
   "source": [
    "[gpu.name for gpu in gpus]"
   ]
  },
  {
   "cell_type": "code",
   "execution_count": 37,
   "id": "9a5b6a01",
   "metadata": {
    "ExecuteTime": {
     "end_time": "2021-07-28T13:13:38.617016Z",
     "start_time": "2021-07-28T13:13:38.611505Z"
    }
   },
   "outputs": [
    {
     "name": "stdout",
     "output_type": "stream",
     "text": [
      "Total RAM: 15.54GB\n"
     ]
    }
   ],
   "source": [
    "svmem = psutil.virtual_memory()\n",
    "print(f\"Total RAM: {get_size(svmem.total)}\")"
   ]
  },
  {
   "cell_type": "code",
   "execution_count": 22,
   "id": "6790b327",
   "metadata": {
    "ExecuteTime": {
     "end_time": "2021-07-28T12:58:11.329837Z",
     "start_time": "2021-07-28T12:58:11.326064Z"
    }
   },
   "outputs": [
    {
     "name": "stdout",
     "output_type": "stream",
     "text": [
      "os: #71~20.04.1-Ubuntu SMP Thu Jul 15 17:46:08 UTC 2021\n"
     ]
    }
   ],
   "source": [
    "print('os:', platform.version())"
   ]
  },
  {
   "cell_type": "code",
   "execution_count": 21,
   "id": "259ade48",
   "metadata": {
    "ExecuteTime": {
     "end_time": "2021-07-28T12:58:11.072648Z",
     "start_time": "2021-07-28T12:58:11.063645Z"
    }
   },
   "outputs": [
    {
     "name": "stdout",
     "output_type": "stream",
     "text": [
      "python version: 3.9.5\n"
     ]
    }
   ],
   "source": [
    "print('python version:', platform.python_version())"
   ]
  },
  {
   "cell_type": "code",
   "execution_count": null,
   "id": "ab0c85ac",
   "metadata": {},
   "outputs": [],
   "source": []
  }
 ],
 "metadata": {
  "kernelspec": {
   "display_name": "Python 3 (ipykernel)",
   "language": "python",
   "name": "python3"
  },
  "language_info": {
   "codemirror_mode": {
    "name": "ipython",
    "version": 3
   },
   "file_extension": ".py",
   "mimetype": "text/x-python",
   "name": "python",
   "nbconvert_exporter": "python",
   "pygments_lexer": "ipython3",
   "version": "3.9.5"
  },
  "toc": {
   "base_numbering": 1,
   "nav_menu": {},
   "number_sections": true,
   "sideBar": true,
   "skip_h1_title": false,
   "title_cell": "Table of Contents",
   "title_sidebar": "Contents",
   "toc_cell": false,
   "toc_position": {},
   "toc_section_display": true,
   "toc_window_display": false
  },
  "varInspector": {
   "cols": {
    "lenName": 16,
    "lenType": 16,
    "lenVar": 40
   },
   "kernels_config": {
    "python": {
     "delete_cmd_postfix": "",
     "delete_cmd_prefix": "del ",
     "library": "var_list.py",
     "varRefreshCmd": "print(var_dic_list())"
    },
    "r": {
     "delete_cmd_postfix": ") ",
     "delete_cmd_prefix": "rm(",
     "library": "var_list.r",
     "varRefreshCmd": "cat(var_dic_list()) "
    }
   },
   "types_to_exclude": [
    "module",
    "function",
    "builtin_function_or_method",
    "instance",
    "_Feature"
   ],
   "window_display": false
  }
 },
 "nbformat": 4,
 "nbformat_minor": 5
}
