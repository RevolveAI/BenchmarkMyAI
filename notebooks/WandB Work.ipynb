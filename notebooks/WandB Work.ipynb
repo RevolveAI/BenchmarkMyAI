{
 "cells": [
  {
   "cell_type": "code",
   "execution_count": 1,
   "id": "69a23f41",
   "metadata": {
    "ExecuteTime": {
     "end_time": "2021-07-29T07:36:47.766335Z",
     "start_time": "2021-07-29T07:36:47.746740Z"
    }
   },
   "outputs": [],
   "source": [
    "%load_ext autoreload\n",
    "%autoreload 2"
   ]
  },
  {
   "cell_type": "code",
   "execution_count": 2,
   "id": "5b7d9cfa-8ae5-497e-a273-95086cc84a1b",
   "metadata": {
    "ExecuteTime": {
     "end_time": "2021-07-29T07:36:48.715167Z",
     "start_time": "2021-07-29T07:36:48.166016Z"
    }
   },
   "outputs": [],
   "source": [
    "import wandb"
   ]
  },
  {
   "cell_type": "code",
   "execution_count": 3,
   "id": "23cda3e0",
   "metadata": {
    "ExecuteTime": {
     "end_time": "2021-07-29T07:36:49.411434Z",
     "start_time": "2021-07-29T07:36:49.383376Z"
    }
   },
   "outputs": [],
   "source": [
    "import sys\n",
    "sys.path.insert(1, '../')"
   ]
  },
  {
   "cell_type": "code",
   "execution_count": 4,
   "id": "1693740a",
   "metadata": {
    "ExecuteTime": {
     "end_time": "2021-07-29T07:36:52.239116Z",
     "start_time": "2021-07-29T07:36:49.860492Z"
    }
   },
   "outputs": [
    {
     "name": "stderr",
     "output_type": "stream",
     "text": [
      "2021-07-29 12:36:50.049719: W tensorflow/stream_executor/platform/default/dso_loader.cc:64] Could not load dynamic library 'libcudart.so.11.0'; dlerror: libcudart.so.11.0: cannot open shared object file: No such file or directory\n",
      "2021-07-29 12:36:50.049760: I tensorflow/stream_executor/cuda/cudart_stub.cc:29] Ignore above cudart dlerror if you do not have a GPU set up on your machine.\n"
     ]
    }
   ],
   "source": [
    "import package as pk"
   ]
  },
  {
   "cell_type": "code",
   "execution_count": 15,
   "id": "ec218373",
   "metadata": {
    "ExecuteTime": {
     "end_time": "2021-07-29T07:41:31.941502Z",
     "start_time": "2021-07-29T07:41:19.993164Z"
    },
    "scrolled": true
   },
   "outputs": [
    {
     "data": {
      "text/html": [
       "Finishing last run (ID:16yoxgen) before initializing another..."
      ],
      "text/plain": [
       "<IPython.core.display.HTML object>"
      ]
     },
     "metadata": {},
     "output_type": "display_data"
    },
    {
     "data": {
      "text/html": [
       "<br/>Waiting for W&B process to finish, PID 103428<br/>Program ended successfully."
      ],
      "text/plain": [
       "<IPython.core.display.HTML object>"
      ]
     },
     "metadata": {},
     "output_type": "display_data"
    },
    {
     "data": {
      "application/vnd.jupyter.widget-view+json": {
       "model_id": "",
       "version_major": 2,
       "version_minor": 0
      },
      "text/plain": [
       "VBox(children=(Label(value=' 0.00MB of 0.00MB uploaded (0.00MB deduped)\\r'), FloatProgress(value=1.0, max=1.0)…"
      ]
     },
     "metadata": {},
     "output_type": "display_data"
    },
    {
     "data": {
      "text/html": [
       "Find user logs for this run at: <code>/home/asdkazmi/work/deeplearning-models-benchmarks/notebooks/wandb/run-20210729_123658-16yoxgen/logs/debug.log</code>"
      ],
      "text/plain": [
       "<IPython.core.display.HTML object>"
      ]
     },
     "metadata": {},
     "output_type": "display_data"
    },
    {
     "data": {
      "text/html": [
       "Find internal logs for this run at: <code>/home/asdkazmi/work/deeplearning-models-benchmarks/notebooks/wandb/run-20210729_123658-16yoxgen/logs/debug-internal.log</code>"
      ],
      "text/plain": [
       "<IPython.core.display.HTML object>"
      ]
     },
     "metadata": {},
     "output_type": "display_data"
    },
    {
     "data": {
      "text/html": [
       "<h3>Run summary:</h3><br/><style>\n",
       "    table.wandb td:nth-child(1) { padding: 0 10px; text-align: right }\n",
       "    </style><table class=\"wandb\">\n",
       "<tr><td>inference_time</td><td>195.64552</td></tr><tr><td>throughput_time</td><td>195.64552</td></tr><tr><td>std</td><td>41.55901</td></tr><tr><td>_runtime</td><td>179</td></tr><tr><td>_timestamp</td><td>1627544397</td></tr><tr><td>_step</td><td>1</td></tr></table>"
      ],
      "text/plain": [
       "<IPython.core.display.HTML object>"
      ]
     },
     "metadata": {},
     "output_type": "display_data"
    },
    {
     "data": {
      "text/html": [
       "<h3>Run history:</h3><br/><style>\n",
       "    table.wandb td:nth-child(1) { padding: 0 10px; text-align: right }\n",
       "    </style><table class=\"wandb\">\n",
       "<tr><td>inference_time</td><td>▁</td></tr><tr><td>throughput_time</td><td>▁</td></tr><tr><td>std</td><td>▁</td></tr><tr><td>_runtime</td><td>▁█</td></tr><tr><td>_timestamp</td><td>▁█</td></tr><tr><td>_step</td><td>▁█</td></tr></table><br/>"
      ],
      "text/plain": [
       "<IPython.core.display.HTML object>"
      ]
     },
     "metadata": {},
     "output_type": "display_data"
    },
    {
     "data": {
      "text/html": [
       "Synced 6 W&B file(s), 1 media file(s), 1 artifact file(s) and 0 other file(s)"
      ],
      "text/plain": [
       "<IPython.core.display.HTML object>"
      ]
     },
     "metadata": {},
     "output_type": "display_data"
    },
    {
     "data": {
      "text/html": [
       "\n",
       "                    <br/>Synced <strong style=\"color:#cdcd00\">ResNet50 224x224 1</strong>: <a href=\"https://wandb.ai/asadrevolveai/test_project/runs/16yoxgen\" target=\"_blank\">https://wandb.ai/asadrevolveai/test_project/runs/16yoxgen</a><br/>\n",
       "                "
      ],
      "text/plain": [
       "<IPython.core.display.HTML object>"
      ]
     },
     "metadata": {},
     "output_type": "display_data"
    },
    {
     "data": {
      "text/html": [
       "...Successfully finished last run (ID:16yoxgen). Initializing new run:<br/><br/>"
      ],
      "text/plain": [
       "<IPython.core.display.HTML object>"
      ]
     },
     "metadata": {},
     "output_type": "display_data"
    },
    {
     "name": "stderr",
     "output_type": "stream",
     "text": [
      "2021-07-29 12:41:27.095425: W tensorflow/stream_executor/platform/default/dso_loader.cc:64] Could not load dynamic library 'libcudart.so.11.0'; dlerror: libcudart.so.11.0: cannot open shared object file: No such file or directory\n",
      "2021-07-29 12:41:27.095465: I tensorflow/stream_executor/cuda/cudart_stub.cc:29] Ignore above cudart dlerror if you do not have a GPU set up on your machine.\n"
     ]
    },
    {
     "data": {
      "text/html": [
       "\n",
       "                Tracking run with wandb version 0.11.0<br/>\n",
       "                Syncing run <strong style=\"color:#cdcd00\">ResNet50 224x224 1</strong> to <a href=\"https://wandb.ai\" target=\"_blank\">Weights & Biases</a> <a href=\"https://docs.wandb.com/integrations/jupyter.html\" target=\"_blank\">(Documentation)</a>.<br/>\n",
       "                Project page: <a href=\"https://wandb.ai/asadrevolveai/test_project\" target=\"_blank\">https://wandb.ai/asadrevolveai/test_project</a><br/>\n",
       "                Run page: <a href=\"https://wandb.ai/asadrevolveai/test_project/runs/ni9v9t77\" target=\"_blank\">https://wandb.ai/asadrevolveai/test_project/runs/ni9v9t77</a><br/>\n",
       "                Run data is saved locally in <code>/home/asdkazmi/work/deeplearning-models-benchmarks/notebooks/wandb/run-20210729_124120-ni9v9t77</code><br/><br/>\n",
       "            "
      ],
      "text/plain": [
       "<IPython.core.display.HTML object>"
      ]
     },
     "metadata": {},
     "output_type": "display_data"
    }
   ],
   "source": [
    "model = 'ResNet50'\n",
    "shape = 224\n",
    "batch = 1\n",
    "run = wandb.init(project=\"test_project\", name=f'{model} {shape}x{shape} {batch}')"
   ]
  },
  {
   "cell_type": "code",
   "execution_count": 16,
   "id": "e4a14ecd-6c18-4d40-85c6-3853f1ba8a92",
   "metadata": {
    "ExecuteTime": {
     "end_time": "2021-07-29T07:41:42.333039Z",
     "start_time": "2021-07-29T07:41:36.356867Z"
    }
   },
   "outputs": [],
   "source": [
    "benchmarker = pk.utils.Benchmark(model, batch, (shape,shape), device='CPU:0')\n",
    "benchmarks = benchmarker.execute()"
   ]
  },
  {
   "cell_type": "code",
   "execution_count": 17,
   "id": "1d341216-57d2-4675-b343-a5220ebaf127",
   "metadata": {
    "ExecuteTime": {
     "end_time": "2021-07-29T07:41:47.275855Z",
     "start_time": "2021-07-29T07:41:47.207084Z"
    }
   },
   "outputs": [],
   "source": [
    "# columns = [\"Benchmark\", \"Time (milliseconds)\"]"
   ]
  },
  {
   "cell_type": "code",
   "execution_count": 18,
   "id": "4bd89343-461b-4fdb-b542-a096b7c8ba62",
   "metadata": {
    "ExecuteTime": {
     "end_time": "2021-07-29T07:41:48.972590Z",
     "start_time": "2021-07-29T07:41:48.908868Z"
    }
   },
   "outputs": [],
   "source": [
    "# table = wandb.Table(data=[[x,y] for (x, y) in benchmarks['benchmark'].items()], columns=columns)"
   ]
  },
  {
   "cell_type": "code",
   "execution_count": 9,
   "id": "f56307b8-7c3c-42ee-8dc0-9434e1c68019",
   "metadata": {
    "ExecuteTime": {
     "end_time": "2021-07-29T07:39:37.592183Z",
     "start_time": "2021-07-29T07:39:37.542573Z"
    }
   },
   "outputs": [],
   "source": [
    "# wandb.log({\"infer_benchmarks\" : wandb.plot.bar(table, *columns,\n",
    "#            title=\"Inference Benchmarks\")})"
   ]
  },
  {
   "cell_type": "code",
   "execution_count": 19,
   "id": "3fb1ac56-506a-4d60-b3c7-4c183a670235",
   "metadata": {
    "ExecuteTime": {
     "end_time": "2021-07-29T07:41:51.494105Z",
     "start_time": "2021-07-29T07:41:51.439140Z"
    }
   },
   "outputs": [],
   "source": [
    "wandb.log(benchmarks['benchmark'])"
   ]
  },
  {
   "cell_type": "markdown",
   "id": "6c9ad6aa",
   "metadata": {},
   "source": [
    "# Insert Benchmark Table"
   ]
  },
  {
   "cell_type": "code",
   "execution_count": 20,
   "id": "f78ad972",
   "metadata": {
    "ExecuteTime": {
     "end_time": "2021-07-29T07:41:55.780312Z",
     "start_time": "2021-07-29T07:41:55.727320Z"
    }
   },
   "outputs": [
    {
     "data": {
      "text/plain": [
       "{}"
      ]
     },
     "execution_count": 20,
     "metadata": {},
     "output_type": "execute_result"
    }
   ],
   "source": [
    "benchmarks.update(benchmarks['benchmark'])\n",
    "benchmarks.pop('benchmark')\n",
    "benchmarks.pop('memory_info')\n",
    "# benchmarks"
   ]
  },
  {
   "cell_type": "code",
   "execution_count": 21,
   "id": "5fa77abd",
   "metadata": {
    "ExecuteTime": {
     "end_time": "2021-07-29T07:41:57.117964Z",
     "start_time": "2021-07-29T07:41:57.068926Z"
    }
   },
   "outputs": [],
   "source": [
    "table = wandb.Table(columns=list(benchmarks.keys()))"
   ]
  },
  {
   "cell_type": "code",
   "execution_count": 22,
   "id": "81fb2944",
   "metadata": {
    "ExecuteTime": {
     "end_time": "2021-07-29T07:41:57.529079Z",
     "start_time": "2021-07-29T07:41:57.477910Z"
    }
   },
   "outputs": [],
   "source": [
    "table.add_data(*list(benchmarks.values()))"
   ]
  },
  {
   "cell_type": "code",
   "execution_count": 23,
   "id": "81f4b457-6c21-43e1-b2b5-2e47eba8e7b3",
   "metadata": {
    "ExecuteTime": {
     "end_time": "2021-07-29T07:41:59.347964Z",
     "start_time": "2021-07-29T07:41:58.056757Z"
    }
   },
   "outputs": [],
   "source": [
    "wandb.log({\"Benchmarks\": table})"
   ]
  },
  {
   "cell_type": "code",
   "execution_count": null,
   "id": "630ef440",
   "metadata": {},
   "outputs": [],
   "source": []
  }
 ],
 "metadata": {
  "kernelspec": {
   "display_name": "Python 3 (ipykernel)",
   "language": "python",
   "name": "python3"
  },
  "language_info": {
   "codemirror_mode": {
    "name": "ipython",
    "version": 3
   },
   "file_extension": ".py",
   "mimetype": "text/x-python",
   "name": "python",
   "nbconvert_exporter": "python",
   "pygments_lexer": "ipython3",
   "version": "3.9.5"
  },
  "toc": {
   "base_numbering": 1,
   "nav_menu": {},
   "number_sections": true,
   "sideBar": true,
   "skip_h1_title": false,
   "title_cell": "Table of Contents",
   "title_sidebar": "Contents",
   "toc_cell": false,
   "toc_position": {},
   "toc_section_display": true,
   "toc_window_display": false
  },
  "varInspector": {
   "cols": {
    "lenName": 16,
    "lenType": 16,
    "lenVar": 40
   },
   "kernels_config": {
    "python": {
     "delete_cmd_postfix": "",
     "delete_cmd_prefix": "del ",
     "library": "var_list.py",
     "varRefreshCmd": "print(var_dic_list())"
    },
    "r": {
     "delete_cmd_postfix": ") ",
     "delete_cmd_prefix": "rm(",
     "library": "var_list.r",
     "varRefreshCmd": "cat(var_dic_list()) "
    }
   },
   "types_to_exclude": [
    "module",
    "function",
    "builtin_function_or_method",
    "instance",
    "_Feature"
   ],
   "window_display": false
  }
 },
 "nbformat": 4,
 "nbformat_minor": 5
}
